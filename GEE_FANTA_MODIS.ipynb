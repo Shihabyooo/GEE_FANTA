{
 "cells": [
  {
   "cell_type": "code",
   "execution_count": 86,
   "metadata": {},
   "outputs": [
    {
     "data": {
      "text/html": [
       "\n",
       "            <style>\n",
       "                .geemap-dark {\n",
       "                    --jp-widgets-color: white;\n",
       "                    --jp-widgets-label-color: white;\n",
       "                    --jp-ui-font-color1: white;\n",
       "                    --jp-layout-color2: #454545;\n",
       "                    background-color: #383838;\n",
       "                }\n",
       "\n",
       "                .geemap-dark .jupyter-button {\n",
       "                    --jp-layout-color3: #383838;\n",
       "                }\n",
       "\n",
       "                .geemap-colab {\n",
       "                    background-color: var(--colab-primary-surface-color, white);\n",
       "                }\n",
       "\n",
       "                .geemap-colab .jupyter-button {\n",
       "                    --jp-layout-color3: var(--colab-primary-surface-color, white);\n",
       "                }\n",
       "            </style>\n",
       "            "
      ],
      "text/plain": [
       "<IPython.core.display.HTML object>"
      ]
     },
     "metadata": {},
     "output_type": "display_data"
    }
   ],
   "source": [
    "#imports, global consts, inits\n",
    "import ee\n",
    "import geemap\n",
    "\n",
    "NDVI_VIZ_PARAMS = {\"min\" : -1, \"max\": 1, \"palette\" : [\"blue\", \"white\", \"green\"]}\n",
    "NDVI_VIZ_PARAMS_CROP_ONLY = {\"min\" : 0.1, \"max\": 0.5, \"palette\" : [\"red\", \"yellow\", \"green\"]}\n",
    "\n",
    "\n",
    "ee.Initialize(project='seamproj01')\n",
    "map = geemap.Map()\n",
    "\n",
    "sudanStateBorders = ee.FeatureCollection(\"projects/seamproj01/assets/SudanStateBorders\") #Shapefiles for Sudan administration borders, via OCHA HDX\n",
    "#sudanCroplandMask = ee.FeatureCollection(\"projects/seamproj01/assets/Sudan_Cropland_Mask_CopernicusLCLU2019\") #shapefile generated from Copernicus Moderate Dynamic Land Cover dataset.\n",
    "testArea =  ee.FeatureCollection(\"projects/seamproj01/assets/test_area\").geometry()\n",
    "\n",
    "khartoum = sudanStateBorders.filter(ee.Filter.inList(\"ADM1_EN\", rightValue=[\"Khartoum\"])).geometry()\n",
    "gezira = sudanStateBorders.filter(ee.Filter.inList(\"ADM1_EN\", rightValue=[\"Aj Jazirah\"])).geometry()\n",
    "\n",
    "# khartoumCropland = sudanCroplandMask.filter(ee.Filter.inList(\"ADM1_EN\", rightValue=[\"Khartoum\"])).geometry()\n",
    "# geziraCropland = sudanCroplandMask.filter(ee.Filter.inList(\"ADM1_EN\", rightValue=[\"Aj Jazirah\"])).geometry()\n",
    "\n",
    "khartoumCroplandModified = ee.FeatureCollection(\"projects/seamproj01/assets/khartoum_cropmask_gt_1km2\").geometry()\n",
    "geziraCroplandModified = ee.FeatureCollection(\"projects/seamproj01/assets/gezira_cropmask_western_bank\").geometry()"
   ]
  },
  {
   "cell_type": "code",
   "execution_count": 87,
   "metadata": {},
   "outputs": [
    {
     "data": {
      "text/html": [
       "\n",
       "            <style>\n",
       "                .geemap-dark {\n",
       "                    --jp-widgets-color: white;\n",
       "                    --jp-widgets-label-color: white;\n",
       "                    --jp-ui-font-color1: white;\n",
       "                    --jp-layout-color2: #454545;\n",
       "                    background-color: #383838;\n",
       "                }\n",
       "\n",
       "                .geemap-dark .jupyter-button {\n",
       "                    --jp-layout-color3: #383838;\n",
       "                }\n",
       "\n",
       "                .geemap-colab {\n",
       "                    background-color: var(--colab-primary-surface-color, white);\n",
       "                }\n",
       "\n",
       "                .geemap-colab .jupyter-button {\n",
       "                    --jp-layout-color3: var(--colab-primary-surface-color, white);\n",
       "                }\n",
       "            </style>\n",
       "            "
      ],
      "text/plain": [
       "<IPython.core.display.HTML object>"
      ]
     },
     "metadata": {},
     "output_type": "display_data"
    }
   ],
   "source": [
    "def AddNDVI(col : ee.ImageCollection) -> ee.ImageCollection:\n",
    "    def NDVIize(img : ee.Image) -> ee.Image:\n",
    "        return img.addBands(img.normalizedDifference([\"sur_refl_b02\", \"sur_refl_b01\"]).rename(\"NDVI\"))\n",
    "    return col.map(NDVIize)\n",
    "\n",
    "\n",
    "def GetQualityMask(img : ee.Image) -> ee.Image:\n",
    "    def bitwiseExtract(value, fromBit, toBit = None):\n",
    "    #https://gis.stackexchange.com/questions/349371/creating-cloud-free-images-out-of-a-mod09a1-modis-image-in-gee\n",
    "        if (toBit == None):\n",
    "             toBit = fromBit\n",
    "        maskSize = ee.Number(1).add(toBit).subtract(fromBit)\n",
    "        mask = ee.Number(1).leftShift(maskSize).subtract(1)\n",
    "        return value.rightShift(fromBit).bitwiseAnd(mask)\n",
    "    \n",
    "    state = img.select(\"State\")\n",
    "\n",
    "    stateCloud = bitwiseExtract(state, 0, 1)\n",
    "    stateCloudShadow = bitwiseExtract(state, 2)\n",
    "    stateLC = bitwiseExtract(state, 3, 5)\n",
    "    stateCirrus = bitwiseExtract(state, 8, 9)\n",
    "    \n",
    "    mask = stateCloud.eq(0).Or(stateCloud.eq(3)) #clear pixel or unset cloud state (assumed clear)\n",
    "    mask = mask.And(stateCloudShadow.eq(0)) #no cloud shadow\n",
    "    mask = mask.And(stateLC.eq(1)) #land\n",
    "    mask = mask.And(stateCirrus.eq(0).Or(stateCirrus.eq(1))) #no or low cirrus clouds (TODO redundant? check modis docs)\n",
    "    return mask\n",
    "\n",
    "\n",
    "def MaskOutPoorQualityPixels(col : ee.ImageCollection) -> ee.ImageCollection:\n",
    "    def UpdateMask(img : ee.Image) -> ee.Image:\n",
    "        mask = GetQualityMask(img)\n",
    "        return img.updateMask(mask)\n",
    "    \n",
    "    return col.map(UpdateMask)"
   ]
  },
  {
   "cell_type": "code",
   "execution_count": 88,
   "metadata": {},
   "outputs": [
    {
     "data": {
      "text/html": [
       "\n",
       "            <style>\n",
       "                .geemap-dark {\n",
       "                    --jp-widgets-color: white;\n",
       "                    --jp-widgets-label-color: white;\n",
       "                    --jp-ui-font-color1: white;\n",
       "                    --jp-layout-color2: #454545;\n",
       "                    background-color: #383838;\n",
       "                }\n",
       "\n",
       "                .geemap-dark .jupyter-button {\n",
       "                    --jp-layout-color3: #383838;\n",
       "                }\n",
       "\n",
       "                .geemap-colab {\n",
       "                    background-color: var(--colab-primary-surface-color, white);\n",
       "                }\n",
       "\n",
       "                .geemap-colab .jupyter-button {\n",
       "                    --jp-layout-color3: var(--colab-primary-surface-color, white);\n",
       "                }\n",
       "            </style>\n",
       "            "
      ],
      "text/plain": [
       "<IPython.core.display.HTML object>"
      ]
     },
     "metadata": {},
     "output_type": "display_data"
    }
   ],
   "source": [
    "#TODO \"roi\" is redundant. Remove it and replace any uses bellow with roiCropMask\n",
    "roi = gezira\n",
    "roiCropMask = geziraCroplandModified\n",
    "\n",
    "#time-series limits. All inclusive.\n",
    "yearStart = 2017\n",
    "monthStart = 1\n",
    "yearEnd = 2024\n",
    "monthEnd = 6\n",
    "\n",
    "#targetMonths are the months comprising the season for analysis.\n",
    "#WARNING! MUST BE 4 Values!\n",
    "    #Otherwise, the Temporal Anomaly Analysis component must be adjusted\n",
    "#WARNING! ORDER OF MONTHS MUST BE CHRONOLOGICALLY! If the season is inter-annual, start with the months in the first year, then the second year\n",
    "    #e.g. if the season starts on November, the list would be [11, 12, 1, 2]\n",
    "#targetMonths = [7, 8, 9, 10] #\"Summer\" season in Sudan (technically Autumn). This covers the growth periods of crops such as sorghum.\n",
    "targetMonths = [11, 12, 1, 2] #\"Winter\" season in Sudan. This covers growth periods of crops such as wheat\n",
    "\n",
    "#Grabbing the MODIS dataset, filtering for time and roi, masking out poor quality pixels and those outside the cropland, and computing the NDVI.\n",
    "dateStart = f\"{yearStart}-{monthStart}-1\"\n",
    "dateEnd = f\"{yearEnd}-{monthEnd + 1}-1\" if monthEnd < 12 else  f\"{yearEnd + 1}-1-1\"\n",
    "\n",
    "modis = ee.ImageCollection(\"MODIS/061/MOD09Q1\")\n",
    "modis = modis.filterBounds(roi).filterDate(dateStart, dateEnd)\n",
    "modis = AddNDVI(MaskOutPoorQualityPixels(modis)).map(lambda img : img.select(\"NDVI\").clip(roiCropMask))\n"
   ]
  },
  {
   "cell_type": "code",
   "execution_count": 89,
   "metadata": {},
   "outputs": [
    {
     "data": {
      "text/html": [
       "\n",
       "            <style>\n",
       "                .geemap-dark {\n",
       "                    --jp-widgets-color: white;\n",
       "                    --jp-widgets-label-color: white;\n",
       "                    --jp-ui-font-color1: white;\n",
       "                    --jp-layout-color2: #454545;\n",
       "                    background-color: #383838;\n",
       "                }\n",
       "\n",
       "                .geemap-dark .jupyter-button {\n",
       "                    --jp-layout-color3: #383838;\n",
       "                }\n",
       "\n",
       "                .geemap-colab {\n",
       "                    background-color: var(--colab-primary-surface-color, white);\n",
       "                }\n",
       "\n",
       "                .geemap-colab .jupyter-button {\n",
       "                    --jp-layout-color3: var(--colab-primary-surface-color, white);\n",
       "                }\n",
       "            </style>\n",
       "            "
      ],
      "text/plain": [
       "<IPython.core.display.HTML object>"
      ]
     },
     "metadata": {},
     "output_type": "display_data"
    }
   ],
   "source": [
    "#generting the timeseries (monthly max NDVI and NDVI range) and the statistics for the \"pure crop\" signal.\n",
    "#Outputs of this block are two ImageCollections: \"timeseries,\" and \"pureCropNDVI\"\n",
    "    #timseries contains images for each season.\n",
    "        #Each Image has number of bands equal to twice the number of targetMonths (2x4 = 8).\n",
    "        #Each Image has a property \"year\" for the season's year, and property \"isComplete\" showing whether available data covers all targetMonths (1 = true, 0 = false)\n",
    "        #Each band is named \"month_x_max\" or \"month_x_range\", where x is the month's number; \"max\" and \"range\" denote whether it encodes the maximum monthly ndvi or ndvi monthly range.\n",
    "    #pureCropNDVI contains images for each month in the targetMonths (total = 4)\n",
    "        #each image has 4 bands: \"month_x_max_mean\" or \"month_x_max_stdDev\" (and similarily for range).\n",
    "        #each image has a property \"month\" with month's number\n",
    "\n",
    "timeSeries = ee.List([])\n",
    "\n",
    "for year in range(yearStart, yearEnd + 1):\n",
    "    yearTS = ee.List([])\n",
    "    isCompleteYear = 1\n",
    "    #for month in range(1, 13):\n",
    "    for month in targetMonths:\n",
    "        if ((year * 100) + month > (yearEnd * 100) + monthEnd):\n",
    "            #add a fake (empty) band, else GEE would throw a fit for selection of a non-existence band.\n",
    "            fakeBand = ee.Image([ee.Image(), ee.Image()]).rename([\"max\", \"range\"]).set({\"system:index\" : f\"month_{month}\"})\n",
    "            yearTS = yearTS.add(fakeBand)\n",
    "            isCompleteYear = 0\n",
    "            continue\n",
    "\n",
    "        subPeriodStart = f\"{year}-{month}-1\"\n",
    "        subPeriodEnd = f\"{year}-{month + 1}-1\" if month < 12 else  f\"{year + 1}-1-1\"\n",
    "        subCol = modis.filterDate(subPeriodStart, subPeriodEnd)\n",
    "        \n",
    "        minMaxNDVI = subCol.reduce(ee.Reducer.minMax())\n",
    "\n",
    "        monthMax = minMaxNDVI.select(\"NDVI_max\").rename(\"max\")\n",
    "        monthRange = minMaxNDVI.select(\"NDVI_max\").subtract(minMaxNDVI.select(\"NDVI_min\")).rename(\"range\")\n",
    "        yearTS = yearTS.add(ee.Image([monthMax, monthRange]).set({\"system:index\" : f\"month_{month}\"}))\n",
    "    \n",
    "    yearTS = ee.ImageCollection(yearTS).toBands().set({\"year\" : year, \"isComplete\" : isCompleteYear})\n",
    "    timeSeries = timeSeries.add(yearTS)\n",
    "\n",
    "timeSeries = ee.ImageCollection(timeSeries)\n",
    "\n",
    "#TODO I made the monthlyMedianNDVI imagecollection in an attempt to do some testing of the internal workings of the algorithm. It exactly usefull for any other purpose (I can think of atm). Consider removing.\n",
    "monthlyMedianNDVI = ee.List([])\n",
    "pureCropNDVI = ee.List([])\n",
    "\n",
    "#for month in range(1, 13):\n",
    "for month in targetMonths:\n",
    "    prefix = f\"month_{month}_\"\n",
    "    thisMonthTS = timeSeries.select([prefix + \"max\", prefix + \"range\"])\n",
    "\n",
    "    monthMedian = thisMonthTS.reduce(ee.Reducer.median()).rename([prefix + \"max\", prefix + \"range\"]).set({\"month\" : month})\n",
    "    \n",
    "    monthlyMedianNDVI = monthlyMedianNDVI.add(monthMedian)\n",
    "    \n",
    "    meanStdReducer = ee.Reducer.mean().combine(ee.Reducer.stdDev(), sharedInputs = True)\n",
    "\n",
    "    monthPureCropNDVI = thisMonthTS.map(lambda img : img.updateMask(img.gt(monthMedian)))\n",
    "    monthPureCropNDVI = monthPureCropNDVI.reduce(meanStdReducer).set(\"month\", month)\n",
    "\n",
    "    pureCropNDVI = pureCropNDVI.add(monthPureCropNDVI)\n",
    "\n",
    "monthlyMedianNDVI = ee.ImageCollection(monthlyMedianNDVI)\n",
    "pureCropNDVI = ee.ImageCollection(pureCropNDVI)"
   ]
  },
  {
   "cell_type": "code",
   "execution_count": 90,
   "metadata": {},
   "outputs": [
    {
     "data": {
      "text/html": [
       "\n",
       "            <style>\n",
       "                .geemap-dark {\n",
       "                    --jp-widgets-color: white;\n",
       "                    --jp-widgets-label-color: white;\n",
       "                    --jp-ui-font-color1: white;\n",
       "                    --jp-layout-color2: #454545;\n",
       "                    background-color: #383838;\n",
       "                }\n",
       "\n",
       "                .geemap-dark .jupyter-button {\n",
       "                    --jp-layout-color3: #383838;\n",
       "                }\n",
       "\n",
       "                .geemap-colab {\n",
       "                    background-color: var(--colab-primary-surface-color, white);\n",
       "                }\n",
       "\n",
       "                .geemap-colab .jupyter-button {\n",
       "                    --jp-layout-color3: var(--colab-primary-surface-color, white);\n",
       "                }\n",
       "            </style>\n",
       "            "
      ],
      "text/plain": [
       "<IPython.core.display.HTML object>"
      ]
     },
     "metadata": {},
     "output_type": "display_data"
    }
   ],
   "source": [
    "#This block computes the temporal anomalies for each season. The output is an ImageCollection called temporalAnomalies, containing Images representing each season.\n",
    "    #Each Image has number of bands equal to twice the number of targetMonths (2x4 = 8).\n",
    "    #Each Image has a property \"year\" for the season's year.\n",
    "    #Each band is named \"month_x_max\" or \"month_x_range\".\n",
    "#note: The loop handles inter-annual years (assuming the targetMonth list was set correctly). However, the output of the anomalies will be given a \"year\" property based on its season, not its\n",
    "#calendar year. For example, for a season that starts on Nov 2013 to Feb 2014, the months of Jan and Feb would be bands in the image with \"year\" = 2013.\n",
    "\n",
    "temporalAnomalies = ee.List([])\n",
    "\n",
    "for year in range (yearStart, yearEnd + 1):\n",
    "    seasonAnomalies = ee.List([])\n",
    "\n",
    "    #for month in range(1, 13):\n",
    "    lastMonth = 0\n",
    "    calendarYear = year\n",
    "    incompleteYear = False\n",
    "    \n",
    "    for month in targetMonths:       \n",
    "        if (month < lastMonth):\n",
    "            calendarYear += 1\n",
    "        lastMonth = month\n",
    "\n",
    "        if ((calendarYear * 100) + month > (yearEnd * 100) + monthEnd):\n",
    "            incompleteYear = True\n",
    "            break\n",
    "\n",
    "        prefix = f\"month_{month}_\"\n",
    "        pureCropSignal = pureCropNDVI.filter(ee.Filter.eq(\"month\", month)).first()\n",
    "        \n",
    "        ta = timeSeries.filter(ee.Filter.eq(\"year\", calendarYear)).first()\n",
    "\n",
    "        taMax = ta.select(prefix + \"max\").subtract(pureCropSignal.select(prefix + \"max_mean\")).divide(pureCropSignal.select(prefix + \"max_stdDev\")).rename(\"max\")\n",
    "        taRange = ta.select(prefix + \"range\").subtract(pureCropSignal.select(prefix + \"range_mean\")).divide(pureCropSignal.select(prefix + \"range_stdDev\")).rename(\"range\")\n",
    "\n",
    "        ta = ee.Image([taMax, taRange]).set({\"system:index\" : f\"month_{month}\"})\n",
    "        seasonAnomalies = seasonAnomalies.add(ta)\n",
    "\n",
    "    if (not incompleteYear):\n",
    "        seasonAnomalies = ee.ImageCollection(seasonAnomalies).toBands().set({\"year\" : year})\n",
    "        temporalAnomalies = temporalAnomalies.add(seasonAnomalies)\n",
    "\n",
    "temporalAnomalies = ee.ImageCollection(temporalAnomalies)"
   ]
  },
  {
   "cell_type": "code",
   "execution_count": 91,
   "metadata": {},
   "outputs": [
    {
     "data": {
      "text/html": [
       "\n",
       "            <style>\n",
       "                .geemap-dark {\n",
       "                    --jp-widgets-color: white;\n",
       "                    --jp-widgets-label-color: white;\n",
       "                    --jp-ui-font-color1: white;\n",
       "                    --jp-layout-color2: #454545;\n",
       "                    background-color: #383838;\n",
       "                }\n",
       "\n",
       "                .geemap-dark .jupyter-button {\n",
       "                    --jp-layout-color3: #383838;\n",
       "                }\n",
       "\n",
       "                .geemap-colab {\n",
       "                    background-color: var(--colab-primary-surface-color, white);\n",
       "                }\n",
       "\n",
       "                .geemap-colab .jupyter-button {\n",
       "                    --jp-layout-color3: var(--colab-primary-surface-color, white);\n",
       "                }\n",
       "            </style>\n",
       "            "
      ],
      "text/plain": [
       "<IPython.core.display.HTML object>"
      ]
     },
     "metadata": {},
     "output_type": "display_data"
    }
   ],
   "source": [
    "#Temporal analysis component\n",
    "\n",
    "def TemporalAnomalyAnalysis(image : ee.Image) -> ee.Image: #to be mapped over temporalAnomalies collection\n",
    "    taMax = []\n",
    "    taRange = []\n",
    "\n",
    "    for month in targetMonths:\n",
    "        name = f\"month_{month}\"\n",
    "        taMax.append(image.select(name + \"_max\").rename(name))\n",
    "        taRange.append(image.select(name + \"_range\").rename(name))\n",
    "        \n",
    "    isFallow_1 = taMax[0].lt(-3).And(taMax[1].lt(-3)).And(taMax[2].lt(-3))\n",
    "    isFallow_1 = isFallow_1.Or(taMax[1].lt(-3).And(taMax[2].lt(-3)).And(taMax[3].lt(-3)))\n",
    "    isFallow_1 = isFallow_1.rename(\"max\")\n",
    "\n",
    "    isFallow_2 = taRange[0].lt(-3).And(taRange[1].lt(-3)).And(taRange[2].lt(-3))\n",
    "    isFallow_2 = isFallow_2.Or(taRange[1].lt(-3).And(taRange[2].lt(-3)).And(taRange[3].lt(-3)))\n",
    "    isFallow_2 = isFallow_2.rename(\"range\")\n",
    "\n",
    "    return ee.Image([isFallow_1, isFallow_2]).set({\"year\" : image.get(\"year\")})\n",
    "\n",
    "#isFallow_TA the two questions for the temporal anomalies\n",
    "isFallow_TA = temporalAnomalies.map(TemporalAnomalyAnalysis)"
   ]
  },
  {
   "cell_type": "code",
   "execution_count": 92,
   "metadata": {},
   "outputs": [
    {
     "data": {
      "text/html": [
       "\n",
       "            <style>\n",
       "                .geemap-dark {\n",
       "                    --jp-widgets-color: white;\n",
       "                    --jp-widgets-label-color: white;\n",
       "                    --jp-ui-font-color1: white;\n",
       "                    --jp-layout-color2: #454545;\n",
       "                    background-color: #383838;\n",
       "                }\n",
       "\n",
       "                .geemap-dark .jupyter-button {\n",
       "                    --jp-layout-color3: #383838;\n",
       "                }\n",
       "\n",
       "                .geemap-colab {\n",
       "                    background-color: var(--colab-primary-surface-color, white);\n",
       "                }\n",
       "\n",
       "                .geemap-colab .jupyter-button {\n",
       "                    --jp-layout-color3: var(--colab-primary-surface-color, white);\n",
       "                }\n",
       "            </style>\n",
       "            "
      ],
      "text/plain": [
       "<IPython.core.display.HTML object>"
      ]
     },
     "metadata": {},
     "output_type": "display_data"
    }
   ],
   "source": [
    "def SpatialAnomalyAnalysis(image : ee.Image) -> ee.Image:\n",
    "    #image has max and range for each month in a year (12 bands). month_x_max, month_x_range, x = month number\n",
    "    maxOfMax = ee.List([])\n",
    "    maxOfRange = ee.List([])\n",
    "    \n",
    "    spatialMedianMax = ee.List([])\n",
    "    spatialMedianRange = ee.List([])\n",
    "\n",
    "    for month in targetMonths:\n",
    "        name = f\"month_{month}\"\n",
    "        _maxOfMax = image.select(name + \"_max\").rename(\"max\")\n",
    "        _maxOfRange = image.select(name + \"_range\").rename(\"range\")\n",
    "        \n",
    "        maxOfMax = maxOfMax.add(_maxOfMax)\n",
    "        maxOfRange = maxOfRange.add(_maxOfRange)\n",
    "\n",
    "\n",
    "        spatialMedianMax =      spatialMedianMax.add(   _maxOfMax.reduceRegion(\n",
    "                                                        reducer = ee.Reducer.median(),\n",
    "                                                        geometry = roiCropMask,\n",
    "                                                        tileScale = 4,\n",
    "                                                        scale = 250,\n",
    "                                                        crs='EPSG:4326',\n",
    "                                                        ).getNumber(\"max\"))\n",
    "        \n",
    "        spatialMedianRange =   spatialMedianRange.add(  _maxOfRange.reduceRegion(\n",
    "                                                        reducer = ee.Reducer.median(),\n",
    "                                                        geometry = roiCropMask,\n",
    "                                                        tileScale = 4,\n",
    "                                                        scale = 250,\n",
    "                                                        crs='EPSG:4326',\n",
    "                                                        ).getNumber(\"range\"))\n",
    "\n",
    "\n",
    "    maxOfMax = ee.ImageCollection(maxOfMax)\n",
    "    maxOfRange = ee.ImageCollection(maxOfRange)\n",
    "\n",
    "    spatialMedianMax = ee.Number(spatialMedianMax.reduce(ee.Reducer.max()))\n",
    "    spatialMedianRange = ee.Number(spatialMedianRange.reduce(ee.Reducer.max()))\n",
    "\n",
    "    isFallow_3 = maxOfMax.reduce(ee.Reducer.max()).lt(ee.Number(0.8).multiply(spatialMedianMax)).set({\"year\" : year}).rename(\"max\")\n",
    "    isFallow_4 = maxOfRange.reduce(ee.Reducer.max()).lt(ee.Number(0.8).multiply(spatialMedianRange)).set({\"year\" : year}).rename(\"range\")\n",
    "\n",
    "    return ee.Image([isFallow_3, isFallow_4]).set({\"year\" : image.get(\"year\")})\n",
    "\n",
    "#isFallow_SA the two questions for the spatial anomalies\n",
    "isFallow_SA = timeSeries.filter(ee.Filter.eq(\"isComplete\", 1)).map(SpatialAnomalyAnalysis)"
   ]
  },
  {
   "cell_type": "code",
   "execution_count": 93,
   "metadata": {},
   "outputs": [
    {
     "data": {
      "text/html": [
       "\n",
       "            <style>\n",
       "                .geemap-dark {\n",
       "                    --jp-widgets-color: white;\n",
       "                    --jp-widgets-label-color: white;\n",
       "                    --jp-ui-font-color1: white;\n",
       "                    --jp-layout-color2: #454545;\n",
       "                    background-color: #383838;\n",
       "                }\n",
       "\n",
       "                .geemap-dark .jupyter-button {\n",
       "                    --jp-layout-color3: #383838;\n",
       "                }\n",
       "\n",
       "                .geemap-colab {\n",
       "                    background-color: var(--colab-primary-surface-color, white);\n",
       "                }\n",
       "\n",
       "                .geemap-colab .jupyter-button {\n",
       "                    --jp-layout-color3: var(--colab-primary-surface-color, white);\n",
       "                }\n",
       "            </style>\n",
       "            "
      ],
      "text/plain": [
       "<IPython.core.display.HTML object>"
      ]
     },
     "metadata": {},
     "output_type": "display_data"
    }
   ],
   "source": [
    "#Final analysis\n",
    "\n",
    "isFallowComponents = ee.List([])\n",
    "for year in range (yearStart, yearEnd + 1):\n",
    "    if ((year * 100) + targetMonths[0] > (yearEnd * 100) + monthEnd):\n",
    "            break\n",
    "    \n",
    "    yearComponents = ee.List([]).add(isFallow_TA.filter(ee.Filter.eq(\"year\", year)).first().set({\"system:index\" : f\"{year}_TA\"}))\n",
    "    yearComponents = yearComponents.add(isFallow_SA.filter(ee.Filter.eq(\"year\", year)).first().set({\"system:index\" : f\"{year}_SA\"}))\n",
    "    isFallowComponents = isFallowComponents.add(ee.ImageCollection(yearComponents).toBands().set({\"year\" : year}))\n",
    "\n",
    "isFallowComponents = ee.ImageCollection(isFallowComponents)\n",
    "\n",
    "fallowTS = isFallowComponents.map(lambda img : img.reduce(ee.Reducer.sum()).gte(ee.Number(2)).rename(ee.String(img.get(\"year\")))).toBands()"
   ]
  },
  {
   "cell_type": "code",
   "execution_count": 94,
   "metadata": {},
   "outputs": [
    {
     "data": {
      "text/html": [
       "\n",
       "            <style>\n",
       "                .geemap-dark {\n",
       "                    --jp-widgets-color: white;\n",
       "                    --jp-widgets-label-color: white;\n",
       "                    --jp-ui-font-color1: white;\n",
       "                    --jp-layout-color2: #454545;\n",
       "                    background-color: #383838;\n",
       "                }\n",
       "\n",
       "                .geemap-dark .jupyter-button {\n",
       "                    --jp-layout-color3: #383838;\n",
       "                }\n",
       "\n",
       "                .geemap-colab {\n",
       "                    background-color: var(--colab-primary-surface-color, white);\n",
       "                }\n",
       "\n",
       "                .geemap-colab .jupyter-button {\n",
       "                    --jp-layout-color3: var(--colab-primary-surface-color, white);\n",
       "                }\n",
       "            </style>\n",
       "            "
      ],
      "text/plain": [
       "<IPython.core.display.HTML object>"
      ]
     },
     "metadata": {},
     "output_type": "display_data"
    }
   ],
   "source": [
    "#export\n",
    "\n",
    "noDataValue = -9999\n",
    "\n",
    "task = ee.batch.Export.image.toDrive(\n",
    "    image=fallowTS,\n",
    "    description= f\"fallow_ts_{yearStart}-{yearEnd}_season_{targetMonths[0]}-{targetMonths[3]}\",\n",
    "    #folder='ee_export',\n",
    "    region=roi,\n",
    "    scale=250,\n",
    "    crs='EPSG:4326',\n",
    "    fileFormat='GeoTIFF',\n",
    "    formatOptions={\n",
    "        'noData': noDataValue\n",
    "    })\n",
    "\n",
    "task.start()\n",
    "\n",
    "# isFallowComponentsCollapsed = isFallowComponents.toBands()\n",
    "\n",
    "# task = ee.batch.Export.image.toDrive(\n",
    "# image=isFallowComponentsCollapsed,\n",
    "# description=f\"fallow_components_{yearStart}-{yearEnd}_season_{targetMonths[0]}-{targetMonths[3]}\",\n",
    "# #folder='ee_export',\n",
    "# region=roi,\n",
    "# scale=250,\n",
    "# crs='EPSG:4326',\n",
    "# fileFormat='GeoTIFF',\n",
    "# formatOptions={\n",
    "#     'noData': noDataValue\n",
    "# })\n",
    "\n",
    "#task.start()"
   ]
  },
  {
   "cell_type": "code",
   "execution_count": 95,
   "metadata": {},
   "outputs": [
    {
     "data": {
      "text/html": [
       "\n",
       "            <style>\n",
       "                .geemap-dark {\n",
       "                    --jp-widgets-color: white;\n",
       "                    --jp-widgets-label-color: white;\n",
       "                    --jp-ui-font-color1: white;\n",
       "                    --jp-layout-color2: #454545;\n",
       "                    background-color: #383838;\n",
       "                }\n",
       "\n",
       "                .geemap-dark .jupyter-button {\n",
       "                    --jp-layout-color3: #383838;\n",
       "                }\n",
       "\n",
       "                .geemap-colab {\n",
       "                    background-color: var(--colab-primary-surface-color, white);\n",
       "                }\n",
       "\n",
       "                .geemap-colab .jupyter-button {\n",
       "                    --jp-layout-color3: var(--colab-primary-surface-color, white);\n",
       "                }\n",
       "            </style>\n",
       "            "
      ],
      "text/plain": [
       "<IPython.core.display.HTML object>"
      ]
     },
     "metadata": {},
     "output_type": "display_data"
    }
   ],
   "source": [
    "# map.centerObject(roi)\n",
    "# map.addLayer(fallowTS, name=\"FallowTS\")\n",
    "# map"
   ]
  }
 ],
 "metadata": {
  "kernelspec": {
   "display_name": ".venv",
   "language": "python",
   "name": "python3"
  },
  "language_info": {
   "codemirror_mode": {
    "name": "ipython",
    "version": 3
   },
   "file_extension": ".py",
   "mimetype": "text/x-python",
   "name": "python",
   "nbconvert_exporter": "python",
   "pygments_lexer": "ipython3",
   "version": "3.12.3"
  }
 },
 "nbformat": 4,
 "nbformat_minor": 2
}
